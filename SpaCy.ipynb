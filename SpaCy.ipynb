{
 "cells": [
  {
   "cell_type": "code",
   "execution_count": null,
   "id": "21beb7d8-6324-4db2-a5a7-34f256255213",
   "metadata": {},
   "outputs": [],
   "source": [
    "#Descarga de herramientas para usar SpaCy\n",
    "!pip install -U pip setuptools wheel\n",
    "\n",
    "#Instalar SpaCy\n",
    "!pip install -U spacy\n",
    "\n",
    "#Descarga el modelo que permite el analisis de textos en esp.\n",
    "!python -m spacy download en_core_web_sm"
   ]
  },
  {
   "cell_type": "code",
   "execution_count": null,
   "id": "ec5fa2a1-dcd9-439e-9f78-2e32571b8be6",
   "metadata": {},
   "outputs": [],
   "source": [
    "!python -m spacy download es_core_news_sm"
   ]
  },
  {
   "cell_type": "code",
   "execution_count": 1,
   "id": "6403838a-74cc-4c47-bad6-862508f8760e",
   "metadata": {},
   "outputs": [
    {
     "name": "stdout",
     "output_type": "stream",
     "text": [
      "Apple está buscando comprar una startup del Reino Unido por mil millones de dólares.\n",
      "Apple PROPN\n",
      "está AUX\n",
      "buscando VERB\n",
      "comprar VERB\n",
      "una DET\n",
      "startup NOUN\n",
      "del ADP\n",
      "Reino PROPN\n",
      "Unido PROPN\n",
      "por ADP\n",
      "mil NUM\n",
      "millones NOUN\n",
      "de ADP\n",
      "dólares NOUN\n",
      ". PUNCT\n"
     ]
    }
   ],
   "source": [
    "#Importa SpaCy para usarlo\n",
    "import spacy\n",
    "#Trae oraciones de ejemplo que tiene SpaCy\n",
    "from spacy.lang.es.examples import sentences \n",
    "\n",
    "#Se carga el modelo de procesamiento de lenguaje.\n",
    "nlp = spacy.load(\"es_core_news_sm\")\n",
    "\n",
    "#Se realiza la tokenizacion y se clasifican las palabras de acuerdo a su tipo.\n",
    "doc = nlp(sentences[0])\n",
    "\n",
    "#Texto al completo\n",
    "print(doc.text)\n",
    "\n",
    "#Imprime la palabra y su tipo.\n",
    "for token in doc:\n",
    "    print(token.text, token.pos_)"
   ]
  },
  {
   "cell_type": "code",
   "execution_count": 2,
   "id": "55775ac3-07cb-4f92-b9c4-9f40ba342eed",
   "metadata": {},
   "outputs": [],
   "source": [
    "#Analisis sobre otro texto\n",
    "doc2 = nlp(\"Esta es una frase de prueba. esta es una segunda frase de prueba. Finalmente tenemos una tercera frase de prueba\")"
   ]
  },
  {
   "cell_type": "code",
   "execution_count": 3,
   "id": "20e0c0f7-e749-4115-85f5-a7e992d74160",
   "metadata": {},
   "outputs": [
    {
     "name": "stdout",
     "output_type": "stream",
     "text": [
      "Esta es una frase de prueba.\n",
      "esta es una segunda frase de prueba.\n",
      "Finalmente tenemos una tercera frase de prueba\n"
     ]
    }
   ],
   "source": [
    "#Separacion del texto en oraciones (Delimitados por puntos)\n",
    "for frase in doc2.sents:\n",
    "    print(frase)"
   ]
  },
  {
   "cell_type": "code",
   "execution_count": 4,
   "id": "7f56b5bd-42c5-4a8f-9d3b-f68e9b3fd3de",
   "metadata": {},
   "outputs": [],
   "source": [
    "#Analisis de otro texto\n",
    "doc3 = nlp(\"La Universidad del Valle ha abierto una nueva maestria en computacion para el desarrollo de aplicaciones inteligentes\")"
   ]
  },
  {
   "cell_type": "code",
   "execution_count": 5,
   "id": "5cc89224-1cbd-4059-921d-0d261c625972",
   "metadata": {},
   "outputs": [
    {
     "name": "stdout",
     "output_type": "stream",
     "text": [
      "La Universidad del Valle\n",
      "una nueva maestria\n",
      "computacion\n",
      "el desarrollo\n",
      "aplicaciones inteligentes\n"
     ]
    }
   ],
   "source": [
    "#Se identifica bloques de sustantivos, posible herramienta para determinar temas(topics)\n",
    "for parte in doc3.noun_chunks:\n",
    "    print(parte)"
   ]
  },
  {
   "cell_type": "markdown",
   "id": "60b3f0d3-1077-432d-b79e-e06a298fca5f",
   "metadata": {},
   "source": [
    "## Usando un generador visual para ver dependencias de las palabras en el texto."
   ]
  },
  {
   "cell_type": "code",
   "execution_count": 6,
   "id": "f3c2b7f9-c9e6-425e-8166-6803b50b17f8",
   "metadata": {},
   "outputs": [],
   "source": [
    "#Herramienta de SpaCy para generar graficos. \n",
    "from spacy import displacy"
   ]
  },
  {
   "cell_type": "code",
   "execution_count": 7,
   "id": "2c1f9cc8-307b-46d6-a908-7716792e9c22",
   "metadata": {},
   "outputs": [],
   "source": [
    "doc5 = nlp(\"Google ha comprado una empresa por 5 millones de euros\")"
   ]
  },
  {
   "cell_type": "code",
   "execution_count": 8,
   "id": "0f03a21f-83ec-4b7b-a8fd-5c2f7c535a12",
   "metadata": {},
   "outputs": [
    {
     "data": {
      "text/html": [
       "<span class=\"tex2jax_ignore\"><svg xmlns=\"http://www.w3.org/2000/svg\" xmlns:xlink=\"http://www.w3.org/1999/xlink\" xml:lang=\"es\" id=\"6c52b402ee48496dac1786481273dc52-0\" class=\"displacy\" width=\"1050\" height=\"287.0\" direction=\"ltr\" style=\"max-width: none; height: 287.0px; color: #000000; background: #ffffff; font-family: Arial; direction: ltr\">\n",
       "<text class=\"displacy-token\" fill=\"currentColor\" text-anchor=\"middle\" y=\"197.0\">\n",
       "    <tspan class=\"displacy-word\" fill=\"currentColor\" x=\"50\">Google</tspan>\n",
       "    <tspan class=\"displacy-tag\" dy=\"2em\" fill=\"currentColor\" x=\"50\">PROPN</tspan>\n",
       "</text>\n",
       "\n",
       "<text class=\"displacy-token\" fill=\"currentColor\" text-anchor=\"middle\" y=\"197.0\">\n",
       "    <tspan class=\"displacy-word\" fill=\"currentColor\" x=\"150\">ha</tspan>\n",
       "    <tspan class=\"displacy-tag\" dy=\"2em\" fill=\"currentColor\" x=\"150\">AUX</tspan>\n",
       "</text>\n",
       "\n",
       "<text class=\"displacy-token\" fill=\"currentColor\" text-anchor=\"middle\" y=\"197.0\">\n",
       "    <tspan class=\"displacy-word\" fill=\"currentColor\" x=\"250\">comprado</tspan>\n",
       "    <tspan class=\"displacy-tag\" dy=\"2em\" fill=\"currentColor\" x=\"250\">VERB</tspan>\n",
       "</text>\n",
       "\n",
       "<text class=\"displacy-token\" fill=\"currentColor\" text-anchor=\"middle\" y=\"197.0\">\n",
       "    <tspan class=\"displacy-word\" fill=\"currentColor\" x=\"350\">una</tspan>\n",
       "    <tspan class=\"displacy-tag\" dy=\"2em\" fill=\"currentColor\" x=\"350\">DET</tspan>\n",
       "</text>\n",
       "\n",
       "<text class=\"displacy-token\" fill=\"currentColor\" text-anchor=\"middle\" y=\"197.0\">\n",
       "    <tspan class=\"displacy-word\" fill=\"currentColor\" x=\"450\">empresa</tspan>\n",
       "    <tspan class=\"displacy-tag\" dy=\"2em\" fill=\"currentColor\" x=\"450\">NOUN</tspan>\n",
       "</text>\n",
       "\n",
       "<text class=\"displacy-token\" fill=\"currentColor\" text-anchor=\"middle\" y=\"197.0\">\n",
       "    <tspan class=\"displacy-word\" fill=\"currentColor\" x=\"550\">por</tspan>\n",
       "    <tspan class=\"displacy-tag\" dy=\"2em\" fill=\"currentColor\" x=\"550\">ADP</tspan>\n",
       "</text>\n",
       "\n",
       "<text class=\"displacy-token\" fill=\"currentColor\" text-anchor=\"middle\" y=\"197.0\">\n",
       "    <tspan class=\"displacy-word\" fill=\"currentColor\" x=\"650\">5</tspan>\n",
       "    <tspan class=\"displacy-tag\" dy=\"2em\" fill=\"currentColor\" x=\"650\">NUM</tspan>\n",
       "</text>\n",
       "\n",
       "<text class=\"displacy-token\" fill=\"currentColor\" text-anchor=\"middle\" y=\"197.0\">\n",
       "    <tspan class=\"displacy-word\" fill=\"currentColor\" x=\"750\">millones</tspan>\n",
       "    <tspan class=\"displacy-tag\" dy=\"2em\" fill=\"currentColor\" x=\"750\">NOUN</tspan>\n",
       "</text>\n",
       "\n",
       "<text class=\"displacy-token\" fill=\"currentColor\" text-anchor=\"middle\" y=\"197.0\">\n",
       "    <tspan class=\"displacy-word\" fill=\"currentColor\" x=\"850\">de</tspan>\n",
       "    <tspan class=\"displacy-tag\" dy=\"2em\" fill=\"currentColor\" x=\"850\">ADP</tspan>\n",
       "</text>\n",
       "\n",
       "<text class=\"displacy-token\" fill=\"currentColor\" text-anchor=\"middle\" y=\"197.0\">\n",
       "    <tspan class=\"displacy-word\" fill=\"currentColor\" x=\"950\">euros</tspan>\n",
       "    <tspan class=\"displacy-tag\" dy=\"2em\" fill=\"currentColor\" x=\"950\">NOUN</tspan>\n",
       "</text>\n",
       "\n",
       "<g class=\"displacy-arrow\">\n",
       "    <path class=\"displacy-arc\" id=\"arrow-6c52b402ee48496dac1786481273dc52-0-0\" stroke-width=\"2px\" d=\"M70,152.0 C70,52.0 245.0,52.0 245.0,152.0\" fill=\"none\" stroke=\"currentColor\"/>\n",
       "    <text dy=\"1.25em\" style=\"font-size: 0.8em; letter-spacing: 1px\">\n",
       "        <textPath xlink:href=\"#arrow-6c52b402ee48496dac1786481273dc52-0-0\" class=\"displacy-label\" startOffset=\"50%\" side=\"left\" fill=\"currentColor\" text-anchor=\"middle\">nsubj</textPath>\n",
       "    </text>\n",
       "    <path class=\"displacy-arrowhead\" d=\"M70,154.0 L62,142.0 78,142.0\" fill=\"currentColor\"/>\n",
       "</g>\n",
       "\n",
       "<g class=\"displacy-arrow\">\n",
       "    <path class=\"displacy-arc\" id=\"arrow-6c52b402ee48496dac1786481273dc52-0-1\" stroke-width=\"2px\" d=\"M170,152.0 C170,102.0 240.0,102.0 240.0,152.0\" fill=\"none\" stroke=\"currentColor\"/>\n",
       "    <text dy=\"1.25em\" style=\"font-size: 0.8em; letter-spacing: 1px\">\n",
       "        <textPath xlink:href=\"#arrow-6c52b402ee48496dac1786481273dc52-0-1\" class=\"displacy-label\" startOffset=\"50%\" side=\"left\" fill=\"currentColor\" text-anchor=\"middle\">aux</textPath>\n",
       "    </text>\n",
       "    <path class=\"displacy-arrowhead\" d=\"M170,154.0 L162,142.0 178,142.0\" fill=\"currentColor\"/>\n",
       "</g>\n",
       "\n",
       "<g class=\"displacy-arrow\">\n",
       "    <path class=\"displacy-arc\" id=\"arrow-6c52b402ee48496dac1786481273dc52-0-2\" stroke-width=\"2px\" d=\"M370,152.0 C370,102.0 440.0,102.0 440.0,152.0\" fill=\"none\" stroke=\"currentColor\"/>\n",
       "    <text dy=\"1.25em\" style=\"font-size: 0.8em; letter-spacing: 1px\">\n",
       "        <textPath xlink:href=\"#arrow-6c52b402ee48496dac1786481273dc52-0-2\" class=\"displacy-label\" startOffset=\"50%\" side=\"left\" fill=\"currentColor\" text-anchor=\"middle\">det</textPath>\n",
       "    </text>\n",
       "    <path class=\"displacy-arrowhead\" d=\"M370,154.0 L362,142.0 378,142.0\" fill=\"currentColor\"/>\n",
       "</g>\n",
       "\n",
       "<g class=\"displacy-arrow\">\n",
       "    <path class=\"displacy-arc\" id=\"arrow-6c52b402ee48496dac1786481273dc52-0-3\" stroke-width=\"2px\" d=\"M270,152.0 C270,52.0 445.0,52.0 445.0,152.0\" fill=\"none\" stroke=\"currentColor\"/>\n",
       "    <text dy=\"1.25em\" style=\"font-size: 0.8em; letter-spacing: 1px\">\n",
       "        <textPath xlink:href=\"#arrow-6c52b402ee48496dac1786481273dc52-0-3\" class=\"displacy-label\" startOffset=\"50%\" side=\"left\" fill=\"currentColor\" text-anchor=\"middle\">obj</textPath>\n",
       "    </text>\n",
       "    <path class=\"displacy-arrowhead\" d=\"M445.0,154.0 L453.0,142.0 437.0,142.0\" fill=\"currentColor\"/>\n",
       "</g>\n",
       "\n",
       "<g class=\"displacy-arrow\">\n",
       "    <path class=\"displacy-arc\" id=\"arrow-6c52b402ee48496dac1786481273dc52-0-4\" stroke-width=\"2px\" d=\"M570,152.0 C570,52.0 745.0,52.0 745.0,152.0\" fill=\"none\" stroke=\"currentColor\"/>\n",
       "    <text dy=\"1.25em\" style=\"font-size: 0.8em; letter-spacing: 1px\">\n",
       "        <textPath xlink:href=\"#arrow-6c52b402ee48496dac1786481273dc52-0-4\" class=\"displacy-label\" startOffset=\"50%\" side=\"left\" fill=\"currentColor\" text-anchor=\"middle\">case</textPath>\n",
       "    </text>\n",
       "    <path class=\"displacy-arrowhead\" d=\"M570,154.0 L562,142.0 578,142.0\" fill=\"currentColor\"/>\n",
       "</g>\n",
       "\n",
       "<g class=\"displacy-arrow\">\n",
       "    <path class=\"displacy-arc\" id=\"arrow-6c52b402ee48496dac1786481273dc52-0-5\" stroke-width=\"2px\" d=\"M670,152.0 C670,102.0 740.0,102.0 740.0,152.0\" fill=\"none\" stroke=\"currentColor\"/>\n",
       "    <text dy=\"1.25em\" style=\"font-size: 0.8em; letter-spacing: 1px\">\n",
       "        <textPath xlink:href=\"#arrow-6c52b402ee48496dac1786481273dc52-0-5\" class=\"displacy-label\" startOffset=\"50%\" side=\"left\" fill=\"currentColor\" text-anchor=\"middle\">nummod</textPath>\n",
       "    </text>\n",
       "    <path class=\"displacy-arrowhead\" d=\"M670,154.0 L662,142.0 678,142.0\" fill=\"currentColor\"/>\n",
       "</g>\n",
       "\n",
       "<g class=\"displacy-arrow\">\n",
       "    <path class=\"displacy-arc\" id=\"arrow-6c52b402ee48496dac1786481273dc52-0-6\" stroke-width=\"2px\" d=\"M270,152.0 C270,2.0 750.0,2.0 750.0,152.0\" fill=\"none\" stroke=\"currentColor\"/>\n",
       "    <text dy=\"1.25em\" style=\"font-size: 0.8em; letter-spacing: 1px\">\n",
       "        <textPath xlink:href=\"#arrow-6c52b402ee48496dac1786481273dc52-0-6\" class=\"displacy-label\" startOffset=\"50%\" side=\"left\" fill=\"currentColor\" text-anchor=\"middle\">obl</textPath>\n",
       "    </text>\n",
       "    <path class=\"displacy-arrowhead\" d=\"M750.0,154.0 L758.0,142.0 742.0,142.0\" fill=\"currentColor\"/>\n",
       "</g>\n",
       "\n",
       "<g class=\"displacy-arrow\">\n",
       "    <path class=\"displacy-arc\" id=\"arrow-6c52b402ee48496dac1786481273dc52-0-7\" stroke-width=\"2px\" d=\"M870,152.0 C870,102.0 940.0,102.0 940.0,152.0\" fill=\"none\" stroke=\"currentColor\"/>\n",
       "    <text dy=\"1.25em\" style=\"font-size: 0.8em; letter-spacing: 1px\">\n",
       "        <textPath xlink:href=\"#arrow-6c52b402ee48496dac1786481273dc52-0-7\" class=\"displacy-label\" startOffset=\"50%\" side=\"left\" fill=\"currentColor\" text-anchor=\"middle\">case</textPath>\n",
       "    </text>\n",
       "    <path class=\"displacy-arrowhead\" d=\"M870,154.0 L862,142.0 878,142.0\" fill=\"currentColor\"/>\n",
       "</g>\n",
       "\n",
       "<g class=\"displacy-arrow\">\n",
       "    <path class=\"displacy-arc\" id=\"arrow-6c52b402ee48496dac1786481273dc52-0-8\" stroke-width=\"2px\" d=\"M770,152.0 C770,52.0 945.0,52.0 945.0,152.0\" fill=\"none\" stroke=\"currentColor\"/>\n",
       "    <text dy=\"1.25em\" style=\"font-size: 0.8em; letter-spacing: 1px\">\n",
       "        <textPath xlink:href=\"#arrow-6c52b402ee48496dac1786481273dc52-0-8\" class=\"displacy-label\" startOffset=\"50%\" side=\"left\" fill=\"currentColor\" text-anchor=\"middle\">nmod</textPath>\n",
       "    </text>\n",
       "    <path class=\"displacy-arrowhead\" d=\"M945.0,154.0 L953.0,142.0 937.0,142.0\" fill=\"currentColor\"/>\n",
       "</g>\n",
       "</svg></span>"
      ],
      "text/plain": [
       "<IPython.core.display.HTML object>"
      ]
     },
     "metadata": {},
     "output_type": "display_data"
    }
   ],
   "source": [
    "#Muestra sobre doc5, el grafico de dependencia del texto.\n",
    "displacy.render(doc5, style='dep',options={'distance':100})"
   ]
  },
  {
   "cell_type": "markdown",
   "id": "1ebe646f-62d5-46ef-be68-e3578a9ce74d",
   "metadata": {},
   "source": [
    "## Probando grafico de dependencias con textos del datasheet."
   ]
  },
  {
   "cell_type": "code",
   "execution_count": null,
   "id": "6568fbda-882c-4b95-8950-0d39f22dd747",
   "metadata": {},
   "outputs": [],
   "source": [
    "%pip install pandas\n",
    "%pip install regex\n",
    "%pip install langdetect"
   ]
  },
  {
   "cell_type": "code",
   "execution_count": 10,
   "id": "0c396e1a-986c-48fc-848a-6d2bc8b9bea0",
   "metadata": {},
   "outputs": [],
   "source": [
    "import langdetect\n",
    "import pandas as pd\n",
    "import regex as re"
   ]
  },
  {
   "cell_type": "code",
   "execution_count": 17,
   "id": "b5b7201b-73e4-4181-8f2e-c5180424dc54",
   "metadata": {},
   "outputs": [
    {
     "name": "stdout",
     "output_type": "stream",
     "text": [
      "La aversión al riesgo enfría el ánimo en Wall Street y golpea al S&amp;P 500, Covid-19 y elecciones en los Estados Unidos siguen en la mira del mercado #trading #coronavirus #Trump #Biden $SPX    \n",
      "\n",
      "\n",
      " a aversión al riesgo enfría el ánimo en Wall Street y golpea al S&amp;P 500, Covid-19 y elecciones en los Estados Unidos siguen en la mira del mercado #trading #coronavirus #Trump #Biden $SPX    \n",
      "\n",
      "Twitter suspende por varias horas la cuenta de la campaña electoral de Trump         \n",
      "\n",
      "Twitter suspende por varias horas la cuenta de la campaña electoral de Trump         \n",
      "\n",
      "Biden y Trump se enfrentaron por separado en cabildos abiertos     \n",
      "\n",
      "Biden y Trump se enfrentaron por separado en cabildos abiertos     \n",
      "\n"
     ]
    }
   ],
   "source": [
    "df = pd.read_csv('outputs_esp_eng.csv', lineterminator='\\n')\n",
    "\n",
    "langs = []\n",
    "\n",
    "# Función que aplica un preprocesado básico en los tweets\n",
    "# Quita saltos de línea, links, hashtags, arrobas y espacios extra\n",
    "def preprocess(text):\n",
    "    text = text.replace('\\n', ' ')\n",
    "    text = re.sub('https?://\\S+|www\\.\\S+', ' ', text)\n",
    "    text = re.sub('#(?!(?:hashtag)\\b)[\\w-]+(?=(?:\\s+#[\\w-]+)*\\s*$)', '',text)\n",
    "    text = re.sub('@[\\w]+', '',text)\n",
    "    re.sub(\"\\s\\s+\", \" \", text)\n",
    "    return text\n",
    "\n",
    "# Se imprimen un par de tweets para ver su composición\n",
    "# Luego se imprime su versión preprocesada para ver los cambios\n",
    "samples = df.sample(3) # Retorna elementos pseudoaleatorios del DataFrame\n",
    "strings = samples.output_esp.values\n",
    "sequence = list(strings)\n",
    "for i in range (0,3):\n",
    "    try:\n",
    "        print(sequence[i]+'\\n')\n",
    "        print(preprocess(sequence[i])+'\\n')\n",
    "    except:\n",
    "        print('')\n",
    "\n",
    "# Se aplica el preprocesado a cada tweet\n",
    "df['output_esp']= df['output_esp'].apply(preprocess)"
   ]
  },
  {
   "cell_type": "code",
   "execution_count": null,
   "id": "0d03c296-4282-43a6-95fb-83d2067ab229",
   "metadata": {},
   "outputs": [],
   "source": [
    "for tweet in df['output_esp']:\n",
    "    print(\"----------------------------------\")\n",
    "    doc = nlp(tweet)\n",
    "    for part in doc.noun_chunks:\n",
    "        print(part)\n",
    "    print(\"----------------------------------\")"
   ]
  },
  {
   "cell_type": "code",
   "execution_count": null,
   "id": "891408eb-2fbd-4d85-bb20-123fd05b89bd",
   "metadata": {},
   "outputs": [],
   "source": [
    "for tweet in df['output_esp']:\n",
    "    tweet_doc = nlp(tweet)\n",
    "    displacy.render(tweet_doc, style='dep',options={'distance':100})"
   ]
  },
  {
   "cell_type": "code",
   "execution_count": null,
   "id": "e3f1139f-4593-4114-943f-5a68aa14c152",
   "metadata": {},
   "outputs": [],
   "source": []
  }
 ],
 "metadata": {
  "kernelspec": {
   "display_name": "Python 3 (ipykernel)",
   "language": "python",
   "name": "python3"
  },
  "language_info": {
   "codemirror_mode": {
    "name": "ipython",
    "version": 3
   },
   "file_extension": ".py",
   "mimetype": "text/x-python",
   "name": "python",
   "nbconvert_exporter": "python",
   "pygments_lexer": "ipython3",
   "version": "3.11.0"
  }
 },
 "nbformat": 4,
 "nbformat_minor": 5
}
